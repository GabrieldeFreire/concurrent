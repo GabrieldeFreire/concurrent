{
 "cells": [
  {
   "cell_type": "code",
   "execution_count": 1,
   "metadata": {},
   "outputs": [],
   "source": [
    "with open('count-ptwiki.txt') as fp:\n",
    "    lines = fp.readlines()"
   ]
  },
  {
   "cell_type": "code",
   "execution_count": 2,
   "metadata": {},
   "outputs": [
    {
     "data": {
      "text/plain": [
       "8920020"
      ]
     },
     "execution_count": 2,
     "metadata": {},
     "output_type": "execute_result"
    }
   ],
   "source": [
    "len(lines)"
   ]
  },
  {
   "cell_type": "code",
   "execution_count": 3,
   "metadata": {},
   "outputs": [
    {
     "data": {
      "text/plain": [
       "['# Pages: 1828985\\n',\n",
       " '# Elapsed time: 607434ms\\n',\n",
       " '03m39s00=1\\n',\n",
       " '20Alimentaç=1\\n',\n",
       " 'em-busca-das-montanhas-azuis-traz-fausto-de-volta-as-edicoes=2\\n']"
      ]
     },
     "execution_count": 3,
     "metadata": {},
     "output_type": "execute_result"
    }
   ],
   "source": [
    "lines[:5]"
   ]
  },
  {
   "cell_type": "code",
   "execution_count": 4,
   "metadata": {},
   "outputs": [
    {
     "data": {
      "text/plain": [
       "[('', 536890621),\n",
       " ('|', 85021633),\n",
       " (']', 73578511),\n",
       " ('[', 73572616),\n",
       " (\"'\", 43346620),\n",
       " ('DE', 29510158),\n",
       " ('/', 29278027),\n",
       " ('}', 27986079),\n",
       " ('{', 27980107),\n",
       " (',', 24438334)]"
      ]
     },
     "execution_count": 4,
     "metadata": {},
     "output_type": "execute_result"
    }
   ],
   "source": [
    "from collections import Counter\n",
    "\n",
    "counter = Counter()\n",
    "\n",
    "for line in lines:\n",
    "    if line.startswith('# Pages:') or line.startswith('# Elapsed'):\n",
    "        continue\n",
    "    try:\n",
    "        word, count = line.strip().rsplit('=', 2)\n",
    "    except ValueError:\n",
    "        continue\n",
    "    counter[word.upper()] += int(count)\n",
    "    \n",
    "counter.most_common(10)"
   ]
  },
  {
   "cell_type": "code",
   "execution_count": 5,
   "metadata": {},
   "outputs": [
    {
     "data": {
      "text/plain": [
       "[('', 536890621),\n",
       " ('|', 85021633),\n",
       " (']', 73578511),\n",
       " ('[', 73572616),\n",
       " (\"'\", 43346620),\n",
       " ('DE', 29510158),\n",
       " ('/', 29278027),\n",
       " ('}', 27986079),\n",
       " ('{', 27980107),\n",
       " (',', 24438334),\n",
       " ('.', 18760565),\n",
       " ('\"', 18675835),\n",
       " (':', 17723245),\n",
       " ('-', 17089444),\n",
       " ('>', 14412521),\n",
       " ('<', 14379944),\n",
       " (')', 10110455),\n",
       " ('(', 10087498),\n",
       " ('A', 9263439),\n",
       " ('E', 8445147),\n",
       " ('O', 7359413),\n",
       " ('*', 7228526),\n",
       " ('DO', 6672377),\n",
       " ('DA', 6517406),\n",
       " ('REF', 5867193),\n",
       " ('EM', 5686213),\n",
       " ('QUE', 4345371),\n",
       " ('#', 3785800),\n",
       " ('!', 3505558),\n",
       " (';', 3504412),\n",
       " ('HTTP', 3269208),\n",
       " ('NO', 3100857),\n",
       " ('COM', 2884051),\n",
       " ('CATEGORIA', 2810091),\n",
       " ('UM', 2802403),\n",
       " ('ALIGN', 2775447),\n",
       " ('CENTER', 2721259),\n",
       " ('PARA', 2674850),\n",
       " ('É', 2638975),\n",
       " ('UMA', 2603659),\n",
       " ('NA', 2409383),\n",
       " ('POR', 2260643),\n",
       " ('BR', 2145551),\n",
       " ('1', 2088845),\n",
       " ('2', 2084606),\n",
       " ('OS', 1947432),\n",
       " ('WEB', 1748818),\n",
       " ('CITAR', 1741815),\n",
       " ('FOI', 1718514),\n",
       " ('DOS', 1715906),\n",
       " ('&', 1662370),\n",
       " ('URL', 1652579),\n",
       " ('NAME', 1643791),\n",
       " ('THE', 1635842),\n",
       " ('SMALL', 1627466),\n",
       " ('COMO', 1624810),\n",
       " ('TÍTULO', 1544769),\n",
       " ('S', 1502495),\n",
       " ('USUÁRIO', 1501001),\n",
       " ('NÃO', 1484014),\n",
       " ('3', 1479335),\n",
       " ('STYLE', 1435591),\n",
       " ('ACESSODATA', 1353614),\n",
       " ('AS', 1348243),\n",
       " ('SE', 1308461),\n",
       " ('DATA', 1300902),\n",
       " ('?', 1284793),\n",
       " ('BGCOLOR', 1262431),\n",
       " ('0', 1250479),\n",
       " ('–', 1229028),\n",
       " ('SÃO', 1202117),\n",
       " ('OF', 1194384),\n",
       " ('_', 1140329),\n",
       " ('DISCUSSÃO', 1131304),\n",
       " ('AO', 1106914),\n",
       " ('MAIS', 1086979),\n",
       " ('IMAGEM', 1043201),\n",
       " ('PUBLICADO', 998923),\n",
       " ('4', 998548),\n",
       " ('SUP', 996099),\n",
       " ('NOME', 991763),\n",
       " ('SUA', 950297),\n",
       " ('FUTEBOL', 946083),\n",
       " ('DAS', 906344),\n",
       " ('UTC', 889280),\n",
       " ('FONT', 887128),\n",
       " ('OU', 866698),\n",
       " ('2010', 838312),\n",
       " ('BRASIL', 816876),\n",
       " ('SEU', 793586),\n",
       " ('%', 790092),\n",
       " ('LEFT', 767576),\n",
       " ('5', 765735),\n",
       " ('+', 757917),\n",
       " ('TAMBÉM', 756022),\n",
       " ('2012', 748425),\n",
       " ('2011', 730276),\n",
       " ('À', 721347),\n",
       " ('2008', 720294),\n",
       " ('COLOR', 710464)]"
      ]
     },
     "execution_count": 5,
     "metadata": {},
     "output_type": "execute_result"
    }
   ],
   "source": [
    "counter.most_common(100)"
   ]
  },
  {
   "cell_type": "code",
   "execution_count": null,
   "metadata": {},
   "outputs": [],
   "source": []
  }
 ],
 "metadata": {
  "kernelspec": {
   "display_name": "Python 3",
   "language": "python",
   "name": "python3"
  },
  "language_info": {
   "codemirror_mode": {
    "name": "ipython",
    "version": 3
   },
   "file_extension": ".py",
   "mimetype": "text/x-python",
   "name": "python",
   "nbconvert_exporter": "python",
   "pygments_lexer": "ipython3",
   "version": "3.7.3"
  }
 },
 "nbformat": 4,
 "nbformat_minor": 2
}
