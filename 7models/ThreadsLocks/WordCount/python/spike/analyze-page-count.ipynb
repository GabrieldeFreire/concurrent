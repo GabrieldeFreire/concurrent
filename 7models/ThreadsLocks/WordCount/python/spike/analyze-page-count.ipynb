{
 "cells": [
  {
   "cell_type": "markdown",
   "metadata": {},
   "source": [
    "# Analyze page count report\n",
    "\n",
    "Generate uppercased word count for words with at least 1000 occurrences:\n",
    "\n",
    "```\n",
    "$ java WordCount ~/tw/ptwiki-20190801-pages-articles-multistream.xml > count-upper-ptwiki-1000.txt\n",
    "```"
   ]
  },
  {
   "cell_type": "code",
   "execution_count": 1,
   "metadata": {},
   "outputs": [],
   "source": [
    "with open('count-upper-ptwiki-1000.txt') as fp:\n",
    "    lines = fp.readlines()"
   ]
  },
  {
   "cell_type": "code",
   "execution_count": 2,
   "metadata": {},
   "outputs": [
    {
     "data": {
      "text/plain": [
       "33893"
      ]
     },
     "execution_count": 2,
     "metadata": {},
     "output_type": "execute_result"
    }
   ],
   "source": [
    "len(lines)"
   ]
  },
  {
   "cell_type": "code",
   "execution_count": 3,
   "metadata": {},
   "outputs": [
    {
     "data": {
      "text/plain": [
       "['# Pages: 1828985\\n',\n",
       " '# Elapsed time: 1069636ms\\n',\n",
       " '\\t=279549\\n',\n",
       " '\\n',\n",
       " '=60686977\\n']"
      ]
     },
     "execution_count": 3,
     "metadata": {},
     "output_type": "execute_result"
    }
   ],
   "source": [
    "lines[:5]"
   ]
  },
  {
   "cell_type": "code",
   "execution_count": 4,
   "metadata": {},
   "outputs": [
    {
     "data": {
      "text/plain": [
       "[('DE', 29510158),\n",
       " ('A', 9263439),\n",
       " ('E', 8445147),\n",
       " ('O', 7359413),\n",
       " ('DO', 6672377),\n",
       " ('DA', 6517406),\n",
       " ('REF', 5867193),\n",
       " ('EM', 5686213),\n",
       " ('QUE', 4345371),\n",
       " ('HTTP', 3269208)]"
      ]
     },
     "execution_count": 4,
     "metadata": {},
     "output_type": "execute_result"
    }
   ],
   "source": [
    "from collections import Counter\n",
    "\n",
    "counter = Counter()\n",
    "\n",
    "for line in lines:\n",
    "    if line.startswith('# Pages:') or line.startswith('# Elapsed'):\n",
    "        continue\n",
    "    try:\n",
    "        word, count = line.strip().rsplit('=', 2)\n",
    "    except ValueError:\n",
    "        continue\n",
    "    word = word.upper()\n",
    "    if word == word.lower():\n",
    "        continue  # not made of Western characters\n",
    "    counter[word] += int(count)\n",
    "    \n",
    "counter.most_common(10)"
   ]
  },
  {
   "cell_type": "code",
   "execution_count": 5,
   "metadata": {},
   "outputs": [
    {
     "name": "stdout",
     "output_type": "stream",
     "text": [
      "29510158 DE\n",
      " 9263439 A\n",
      " 8445147 E\n",
      " 7359413 O\n",
      " 6672377 DO\n",
      " 6517406 DA\n",
      " 5867193 REF\n",
      " 5686213 EM\n",
      " 4345371 QUE\n",
      " 3269208 HTTP\n",
      " 3100857 NO\n",
      " 2884051 COM\n",
      " 2810091 CATEGORIA\n",
      " 2802403 UM\n",
      " 2775447 ALIGN\n",
      " 2721259 CENTER\n",
      " 2674850 PARA\n",
      " 2638975 É\n",
      " 2603659 UMA\n",
      " 2409383 NA\n",
      " 2260643 POR\n",
      " 2145551 BR\n",
      " 1947432 OS\n",
      " 1748818 WEB\n",
      " 1741815 CITAR\n",
      " 1718514 FOI\n",
      " 1715906 DOS\n",
      " 1652579 URL\n",
      " 1643791 NAME\n",
      " 1635842 THE\n",
      " 1627466 SMALL\n",
      " 1624810 COMO\n",
      " 1544769 TÍTULO\n",
      " 1502495 S\n",
      " 1501001 USUÁRIO\n",
      " 1484014 NÃO\n",
      " 1435591 STYLE\n",
      " 1353614 ACESSODATA\n",
      " 1348243 AS\n",
      " 1308461 SE\n",
      " 1300902 DATA\n",
      " 1262431 BGCOLOR\n",
      " 1202117 SÃO\n",
      " 1194384 OF\n",
      " 1131304 DISCUSSÃO\n",
      " 1106914 AO\n",
      " 1086979 MAIS\n",
      " 1043201 IMAGEM\n",
      "  998923 PUBLICADO\n",
      "  996099 SUP\n",
      "  991763 NOME\n",
      "  950297 SUA\n",
      "  946083 FUTEBOL\n",
      "  906344 DAS\n",
      "  889280 UTC\n",
      "  887128 FONT\n",
      "  866698 OU\n",
      "  816876 BRASIL\n",
      "  793586 SEU\n",
      "  767576 LEFT\n",
      "  756022 TAMBÉM\n",
      "  721347 À\n",
      "  710464 COLOR\n",
      "  670196 JANEIRO\n",
      "  654683 WIDTH\n",
      "  645922 SER\n",
      "  644583 ANO\n",
      "  625254 AUTOR\n",
      "  621566 INFO\n",
      "  612326 RIO\n",
      "  611283 REFERÊNCIAS\n",
      "  597820 PELA\n",
      "  588043 PELO\n",
      "  584500 FICHEIRO\n",
      "  580180 HTTPS\n",
      "  567294 ESTADO\n",
      "  565100 NBSP\n",
      "  564311 LÍNGUA\n",
      "  548088 NOS\n",
      "  546998 CIDADE\n",
      "  537725 ELE\n",
      "  537351 MAS\n",
      "  529504 AND\n",
      "  525616 ENTRE\n",
      "  523455 SOBRE\n",
      "  521536 ESTADOS\n",
      "  519519 PRIMEIRO\n",
      "  517246 EN\n",
      "  512894 ANOS\n",
      "  500469 TITULO\n",
      "  498016 SPAN\n",
      "  485121 GRANDE\n",
      "  474579 OBRA\n",
      "  467801 IN\n",
      "  467029 PAULO\n",
      "  462861 TEXT-ALIGN\n",
      "  455383 CAMPEONATO\n",
      "  449607 X\n",
      "  446427 BACKGROUND\n",
      "  445912 UNIDOS\n",
      "  444211 JOGOS\n",
      "  438851 N\n",
      "  435808 LISTA\n",
      "  422195 JULHO\n",
      "  419234 REDIRECT\n",
      "  410642 MAIO\n",
      "  410450 ERA\n",
      "  407870 PORTUGAL\n",
      "  397807 OUTUBRO\n",
      "  397321 ABRIL\n"
     ]
    }
   ],
   "source": [
    "for word, count in counter.most_common(110):\n",
    "    print(f'{count:8d} {word}')"
   ]
  },
  {
   "cell_type": "code",
   "execution_count": null,
   "metadata": {},
   "outputs": [],
   "source": []
  }
 ],
 "metadata": {
  "kernelspec": {
   "display_name": "Python 3",
   "language": "python",
   "name": "python3"
  },
  "language_info": {
   "codemirror_mode": {
    "name": "ipython",
    "version": 3
   },
   "file_extension": ".py",
   "mimetype": "text/x-python",
   "name": "python",
   "nbconvert_exporter": "python",
   "pygments_lexer": "ipython3",
   "version": "3.7.3"
  }
 },
 "nbformat": 4,
 "nbformat_minor": 2
}
